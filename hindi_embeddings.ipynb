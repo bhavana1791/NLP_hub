{
  "nbformat": 4,
  "nbformat_minor": 0,
  "metadata": {
    "accelerator": "GPU",
    "colab": {
      "name": "hindi_embeddings.ipynb",
      "provenance": [],
      "collapsed_sections": []
    },
    "kernelspec": {
      "display_name": "Python 3",
      "name": "python3"
    },
    "language_info": {
      "name": "python"
    }
  },
  "cells": [
    {
      "cell_type": "code",
      "metadata": {
        "id": "2WTV67_8nerL"
      },
      "source": [
        "import os\n",
        "from google.colab import drive"
      ],
      "execution_count": null,
      "outputs": []
    },
    {
      "cell_type": "code",
      "metadata": {
        "colab": {
          "base_uri": "https://localhost:8080/"
        },
        "id": "oeLSk0p0ny0t",
        "outputId": "9a78bed7-ed50-453b-abc1-3707dfab149a"
      },
      "source": [
        "drive.mount('/content/gdrive',force_remount=True)"
      ],
      "execution_count": null,
      "outputs": [
        {
          "output_type": "stream",
          "name": "stdout",
          "text": [
            "Mounted at /content/gdrive\n"
          ]
        }
      ]
    },
    {
      "cell_type": "code",
      "metadata": {
        "id": "1C2pz44Un1vj"
      },
      "source": [
        "Root_dir = '/content/gdrive/My Drive/transformers/'"
      ],
      "execution_count": null,
      "outputs": []
    },
    {
      "cell_type": "code",
      "metadata": {
        "colab": {
          "base_uri": "https://localhost:8080/"
        },
        "id": "nNTBs24zn5JM",
        "outputId": "c0bf91a9-e573-4e61-c6d5-6d310f364341"
      },
      "source": [
        "root_dir = Root_dir\n",
        "os.chdir( root_dir )\n",
        "\n",
        "print( 'Current working directory ::', os.getcwd() )"
      ],
      "execution_count": null,
      "outputs": [
        {
          "output_type": "stream",
          "name": "stdout",
          "text": [
            "Current working directory :: /content/gdrive/My Drive/transformers\n"
          ]
        }
      ]
    },
    {
      "cell_type": "code",
      "metadata": {
        "id": "07hdS56liTvs"
      },
      "source": [
        "#mount your drives on which code is expected to run"
      ],
      "execution_count": null,
      "outputs": []
    },
    {
      "cell_type": "code",
      "metadata": {
        "colab": {
          "base_uri": "https://localhost:8080/"
        },
        "id": "xrnd814tn8a0",
        "outputId": "c1474cea-7ec7-4ee3-a30e-7082a022aaf5"
      },
      "source": [
        "import numpy as np\n",
        "\n",
        "\n",
        "filename = 'cc.hi.300.vec'  # fastext hindi vectors https://dl.fbaipublicfiles.com/fasttext/vectors-crawl/cc.hi.300.vec.gz\n",
        "\n",
        "\n",
        "word_vec_dim = 300 # word_vec_dim = dimension of each word vectors\n",
        "\n",
        "def loadEmbeddings(filename):\n",
        "    vocab2embd = {}\n",
        "\n",
        "    with open(filename) as infile:\n",
        "        for line in infile:\n",
        "            row = line.strip().split(' ')\n",
        "            word = row[0].lower()\n",
        "            # print(word)\n",
        "            if word not in vocab2embd:\n",
        "                vec = np.asarray(row[1:], np.float32)\n",
        "                if len(vec) == word_vec_dim:\n",
        "                    vocab2embd[word] = vec\n",
        "\n",
        "    print('Embedding Loaded.')\n",
        "        \n",
        "    return vocab2embd\n",
        "\n",
        "# Pre-trained word embedding\n",
        "vocab2embd = loadEmbeddings(filename)\n",
        "\n",
        "\n",
        "\n",
        "vocab2embd['<UNK>'] = np.random.randn(word_vec_dim)\n",
        "vocab2embd['<GO>'] = np.random.randn(word_vec_dim)\n",
        "vocab2embd['<PRED>'] = np.random.randn(word_vec_dim)\n",
        "vocab2embd['<EOS>'] = np.random.randn(word_vec_dim)\n",
        "vocab2embd['<PAD>'] = np.zeros(word_vec_dim)"
      ],
      "execution_count": null,
      "outputs": [
        {
          "output_type": "stream",
          "name": "stdout",
          "text": [
            "Embedding Loaded.\n"
          ]
        }
      ]
    },
    {
      "cell_type": "code",
      "metadata": {
        "colab": {
          "base_uri": "https://localhost:8080/"
        },
        "id": "dgBjRG4QoEfP",
        "outputId": "f182813c-0bb5-4417-900a-09d9c68e064d"
      },
      "source": [
        "import csv\n",
        "import nltk\n",
        "nltk.download('punkt')\n",
        "from nltk import word_tokenize\n",
        "import string\n",
        "\n",
        "summaries = []\n",
        "texts = []\n",
        "\n",
        "def clean(text):\n",
        "    text = text.lower()\n",
        "    printable = set(string.printable)\n",
        "    text = \"\".join(list(filter(lambda x: x in printable, text))) \n",
        "    return text\n",
        "\n",
        "counter={}\n",
        "max_len_text = 100\n",
        "max_len_sum = 20\n",
        "\n",
        "i=0\n",
        "with open('mono.hi', 'rt') as text: #Monolingual Hindi dataset\n",
        "    count=0\n",
        "    for row in text:\n",
        "        clean_text = word_tokenize(clean(row))\n",
        "        \n",
        "        if len(clean_text) <= max_len_text:\n",
        "            \n",
        "            for word in clean_text:\n",
        "                if word in vocab2embd:\n",
        "                    counter[word]=counter.get(word,0)+1\n",
        "            texts.append(clean_text)\n",
        "        if i%10000==0:\n",
        "            print(\"Processing data {}\".format(i))\n",
        "        i+=1\n",
        "        \n",
        "print(\"Current size of data: \"+str(len(texts)))\n"
      ],
      "execution_count": null,
      "outputs": [
        {
          "output_type": "stream",
          "name": "stdout",
          "text": [
            "[nltk_data] Downloading package punkt to /root/nltk_data...\n",
            "[nltk_data]   Unzipping tokenizers/punkt.zip.\n",
            "Processing data 0\n",
            "Current size of data: 204\n"
          ]
        }
      ]
    },
    {
      "cell_type": "code",
      "metadata": {
        "colab": {
          "base_uri": "https://localhost:8080/"
        },
        "id": "w03bfqUCJ3kZ",
        "outputId": "6fd3ae95-dd76-4eb7-8067-fb9417639f58"
      },
      "source": [
        "counter"
      ],
      "execution_count": null,
      "outputs": [
        {
          "output_type": "execute_result",
          "data": {
            "text/plain": [
              "{\"'\": 11,\n",
              " '(': 2,\n",
              " ')': 2,\n",
              " ',': 81,\n",
              " '-': 18,\n",
              " '10': 2,\n",
              " '100': 1,\n",
              " '11': 1,\n",
              " '16': 1,\n",
              " '1971': 1,\n",
              " '1977': 1,\n",
              " '1978': 1,\n",
              " '1980': 1,\n",
              " '1985': 1,\n",
              " '1996': 1,\n",
              " '1999': 3,\n",
              " '20': 2,\n",
              " '200': 1,\n",
              " '2001': 1,\n",
              " '2003': 1,\n",
              " '2004': 1,\n",
              " '2006': 1,\n",
              " '2007': 2,\n",
              " '2010': 1,\n",
              " '2013': 1,\n",
              " '25': 1,\n",
              " '26': 1,\n",
              " '29': 1,\n",
              " '3': 1,\n",
              " '4': 1,\n",
              " '45': 1,\n",
              " '5': 1,\n",
              " '6': 1,\n",
              " '60': 1,\n",
              " '63': 1,\n",
              " '65': 1,\n",
              " '8': 1,\n",
              " '90': 1,\n",
              " '?': 7,\n",
              " 'net': 1}"
            ]
          },
          "metadata": {},
          "execution_count": 8
        }
      ]
    },
    {
      "cell_type": "code",
      "metadata": {
        "colab": {
          "base_uri": "https://localhost:8080/"
        },
        "id": "-n8qdppyJ-Wh",
        "outputId": "f57c05d3-f88c-43e2-ce5f-dbf79950af05"
      },
      "source": [
        "texts"
      ],
      "execution_count": null,
      "outputs": [
        {
          "output_type": "execute_result",
          "data": {
            "text/plain": [
              "[[],\n",
              " [],\n",
              " [','],\n",
              " [','],\n",
              " [],\n",
              " [','],\n",
              " [',', ','],\n",
              " [','],\n",
              " [],\n",
              " [],\n",
              " [],\n",
              " ['2003', ','],\n",
              " [','],\n",
              " [],\n",
              " [','],\n",
              " [','],\n",
              " [','],\n",
              " [','],\n",
              " [],\n",
              " [],\n",
              " ['-'],\n",
              " [],\n",
              " [','],\n",
              " [','],\n",
              " [','],\n",
              " [','],\n",
              " [],\n",
              " [','],\n",
              " [],\n",
              " [],\n",
              " [',', '-', '-'],\n",
              " [',', ','],\n",
              " [],\n",
              " [],\n",
              " [','],\n",
              " [],\n",
              " [],\n",
              " [],\n",
              " [],\n",
              " [],\n",
              " [',', '-', ',', '-'],\n",
              " [],\n",
              " [','],\n",
              " ['45', '10', '4'],\n",
              " [',', ',', '-'],\n",
              " [',', '-', ','],\n",
              " [],\n",
              " ['-'],\n",
              " [','],\n",
              " [],\n",
              " ['?'],\n",
              " [','],\n",
              " [',', ','],\n",
              " [],\n",
              " ['25'],\n",
              " [],\n",
              " [],\n",
              " [],\n",
              " [','],\n",
              " [],\n",
              " [','],\n",
              " [',', ','],\n",
              " [],\n",
              " ['?', '?'],\n",
              " [','],\n",
              " [],\n",
              " [],\n",
              " ['6', '-'],\n",
              " ['-'],\n",
              " [',', '?', '?', '?', ','],\n",
              " [],\n",
              " [],\n",
              " [',', '2006'],\n",
              " [],\n",
              " ['3', ',', '1999'],\n",
              " [],\n",
              " ['1996'],\n",
              " ['29', ',', '2010'],\n",
              " ['20'],\n",
              " [','],\n",
              " ['20'],\n",
              " ['10'],\n",
              " [],\n",
              " [],\n",
              " [],\n",
              " [],\n",
              " [],\n",
              " [],\n",
              " [],\n",
              " [],\n",
              " [],\n",
              " [],\n",
              " [],\n",
              " ['1977'],\n",
              " ['-', '1978'],\n",
              " ['1980'],\n",
              " [],\n",
              " ['1985'],\n",
              " [],\n",
              " [],\n",
              " [],\n",
              " [],\n",
              " ['-', ','],\n",
              " [','],\n",
              " [],\n",
              " [],\n",
              " [],\n",
              " [],\n",
              " [','],\n",
              " ['2004'],\n",
              " [],\n",
              " [','],\n",
              " [],\n",
              " [','],\n",
              " [],\n",
              " [],\n",
              " [','],\n",
              " [],\n",
              " ['-'],\n",
              " [],\n",
              " [',', ','],\n",
              " ['-'],\n",
              " [','],\n",
              " [],\n",
              " [],\n",
              " [',', '?'],\n",
              " ['-'],\n",
              " [],\n",
              " [','],\n",
              " [],\n",
              " [],\n",
              " [','],\n",
              " [],\n",
              " [','],\n",
              " [',', '2-1'],\n",
              " [],\n",
              " [',', ','],\n",
              " [],\n",
              " [],\n",
              " [],\n",
              " ['2013'],\n",
              " [\"'\", \"'\", ',', \"'\"],\n",
              " [','],\n",
              " [],\n",
              " [],\n",
              " [],\n",
              " ['1999'],\n",
              " [','],\n",
              " [',', \"'\", ','],\n",
              " [',', \"'\"],\n",
              " [',', \"'\"],\n",
              " ['1971'],\n",
              " [\"'\"],\n",
              " ['1999'],\n",
              " [],\n",
              " [],\n",
              " [],\n",
              " [],\n",
              " [],\n",
              " [',', ',', ',', ',', ',', '-'],\n",
              " [],\n",
              " [\"'\", \"'\"],\n",
              " [\"'\", \"'\"],\n",
              " [],\n",
              " ['-'],\n",
              " [],\n",
              " [],\n",
              " [],\n",
              " [],\n",
              " [],\n",
              " ['(', 'everydns', 'net', ')'],\n",
              " [],\n",
              " [],\n",
              " [],\n",
              " ['2007'],\n",
              " [],\n",
              " [],\n",
              " [],\n",
              " ['2007'],\n",
              " [],\n",
              " [],\n",
              " [],\n",
              " [],\n",
              " [],\n",
              " ['16'],\n",
              " ['100'],\n",
              " [],\n",
              " [','],\n",
              " [],\n",
              " ['65'],\n",
              " [],\n",
              " [',', '-'],\n",
              " ['63', '90', '26', '8'],\n",
              " [',', ',', '5'],\n",
              " [',', '200'],\n",
              " [','],\n",
              " [',', ','],\n",
              " [],\n",
              " [','],\n",
              " [],\n",
              " ['(', '60', ')', '2001', '11'],\n",
              " [','],\n",
              " [],\n",
              " []]"
            ]
          },
          "metadata": {},
          "execution_count": 9
        }
      ]
    },
    {
      "cell_type": "code",
      "metadata": {
        "id": "ePON0LNL3v0q"
      },
      "source": [
        "vocab = [word for word in counter]\n",
        "\n",
        "\n",
        "counts = [counter[word] for word in vocab]\n",
        "\n",
        "sorted_idx = sorted(range(len(counts)), key=counts.__getitem__)\n",
        "sorted_idx.reverse()\n",
        "\n",
        "vocab = [vocab[idx] for idx in sorted_idx]\n",
        "\n",
        "special_tags = [\"<UNK>\",\"<GO>\",\"<PRED>\",\"<EOS>\",\"<PAD>\"]\n",
        "if len(vocab) > 40000-len(special_tags):\n",
        "    vocab = vocab[0:40000-len(special_tags)]\n",
        "    \n",
        "\n",
        "vocab += special_tags \n",
        "\n",
        "vocab_dict = {word:i for i,word in enumerate(vocab)}\n",
        "\n",
        "embeddings = []\n",
        "for word in vocab:\n",
        "    embeddings.append(vocab2embd[word].tolist())"
      ],
      "execution_count": null,
      "outputs": []
    },
    {
      "cell_type": "code",
      "metadata": {
        "id": "TzYy1dYK5P3R"
      },
      "source": [
        "import random\n",
        "\n",
        "texts_idx = [idx for idx in range(0,len(texts))]\n",
        "random.shuffle(texts_idx)\n",
        "\n",
        "texts = [texts[idx] for idx in texts_idx]\n"
      ],
      "execution_count": null,
      "outputs": []
    },
    {
      "cell_type": "code",
      "metadata": {
        "id": "kFOG2s7Y5T2f",
        "colab": {
          "base_uri": "https://localhost:8080/"
        },
        "outputId": "29fd97c2-34cd-479e-f91a-9c389c02fcb5"
      },
      "source": [
        "import random\n",
        "\n",
        "index = random.randint(0,len(texts)-1)\n",
        "\n",
        "print(\"SAMPLE CLEANED & TOKENIZED TEXT: \\n\\n\"+str(texts[index]))\n"
      ],
      "execution_count": null,
      "outputs": [
        {
          "output_type": "stream",
          "name": "stdout",
          "text": [
            "SAMPLE CLEANED & TOKENIZED TEXT: \n",
            "\n",
            "[',', '?']\n"
          ]
        }
      ]
    },
    {
      "cell_type": "code",
      "metadata": {
        "id": "kvMk3G7n8gJ5"
      },
      "source": [
        "train_len = int(.7*len(texts))\n",
        "val_len = int(.2*len(texts))\n",
        "\n",
        "train_texts = texts[0:train_len]\n",
        "\n",
        "val_texts = texts[train_len:train_len+val_len]\n",
        "\n",
        "test_texts = texts[train_len+val_len:]"
      ],
      "execution_count": null,
      "outputs": []
    },
    {
      "cell_type": "code",
      "metadata": {
        "id": "nXunIPO38j-e"
      },
      "source": [
        "def bucket_and_batch(texts, batch_size=32):\n",
        "    \n",
        "    global vocab_dict\n",
        "    vocab2idx = vocab_dict\n",
        "    \n",
        "    PAD = vocab2idx['<PAD>']\n",
        "    EOS = vocab2idx['<EOS>']\n",
        "    UNK = vocab2idx['<UNK>']\n",
        "\n",
        "    true_seq_lens = np.zeros((len(texts)), dtype=int)\n",
        "    for i in range(len(texts)):\n",
        "        true_seq_lens[i] = len(texts[i])\n",
        "\n",
        "    sorted_by_len_indices = np.flip(np.argsort(true_seq_lens), 0)\n",
        "\n",
        "    sorted_texts = []\n",
        "\n",
        "    for i in range(len(texts)):\n",
        "        sorted_texts.append(texts[sorted_by_len_indices[i]])\n",
        "\n",
        "    i = 0\n",
        "    batches_texts = []\n",
        "    batches_true_seq_in_lens = []\n",
        "    batches_true_seq_out_lens = []\n",
        "\n",
        "    while i < len(sorted_texts):\n",
        "\n",
        "        if i+batch_size > len(sorted_texts):\n",
        "            batch_size = len(sorted_texts)-i\n",
        "\n",
        "        batch_texts = []\n",
        "        batch_true_seq_in_lens = []\n",
        "        batch_true_seq_out_lens = []\n",
        "\n",
        "        max_in_len = len(sorted_texts[i])\n",
        "\n",
        "        for j in range(i, i + batch_size):\n",
        "\n",
        "            text = sorted_texts[j]\n",
        "            \n",
        "            text = [vocab2idx.get(word,UNK) for word in text]\n",
        "            \n",
        "            init_in_len = len(text)\n",
        "\n",
        "            while len(text) < max_in_len:\n",
        "                text.append(PAD)\n",
        "                \n",
        "            batch_texts.append(text)\n",
        "            batch_true_seq_in_lens.append(init_in_len)\n",
        "\n",
        "        batches_texts.append(batch_texts)\n",
        "        batches_true_seq_in_lens.append(batch_true_seq_in_lens)\n",
        "\n",
        "        i += batch_size\n",
        "\n",
        "    return batches_texts, batches_true_seq_in_lens"
      ],
      "execution_count": null,
      "outputs": []
    },
    {
      "cell_type": "code",
      "metadata": {
        "id": "f_aOLUU89eWW"
      },
      "source": [
        "train_batches_x,\\\n",
        "train_batches_in_lens = bucket_and_batch(train_texts)\n",
        "val_batches_x,\\\n",
        "val_batches_in_lens = bucket_and_batch(val_texts)\n",
        "test_batches_x,\\\n",
        "test_batches_in_lens = bucket_and_batch(test_texts)"
      ],
      "execution_count": null,
      "outputs": []
    },
    {
      "cell_type": "code",
      "metadata": {
        "id": "cBpEdw8p-Ac0"
      },
      "source": [
        "import json\n",
        "\n",
        "diction = {}\n",
        "diction['vocab']=vocab\n",
        "diction['embd']=embeddings\n",
        "diction['train_batches_x']=train_batches_x\n",
        "diction['train_batches_in_len'] = train_batches_in_lens\n",
        "diction['val_batches_x']=val_batches_x\n",
        "diction['val_batches_in_len'] = val_batches_in_lens\n",
        "diction['test_batches_x']=test_batches_x\n",
        "\n",
        "diction['test_batches_in_len'] = test_batches_in_lens\n",
        "\n",
        "\n",
        "with open('ProcessedData.json', 'w') as fp:\n",
        "    json.dump(diction, fp)"
      ],
      "execution_count": null,
      "outputs": []
    },
    {
      "cell_type": "code",
      "metadata": {
        "id": "Mmk0jYc7x4UH"
      },
      "source": [
        ""
      ],
      "execution_count": null,
      "outputs": []
    }
  ]
}